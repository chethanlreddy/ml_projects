{
 "cells": [
  {
   "cell_type": "code",
   "execution_count": 36,
   "metadata": {},
   "outputs": [
    {
     "data": {
      "text/html": [
       "<div>\n",
       "<style scoped>\n",
       "    .dataframe tbody tr th:only-of-type {\n",
       "        vertical-align: middle;\n",
       "    }\n",
       "\n",
       "    .dataframe tbody tr th {\n",
       "        vertical-align: top;\n",
       "    }\n",
       "\n",
       "    .dataframe thead th {\n",
       "        text-align: right;\n",
       "    }\n",
       "</style>\n",
       "<table border=\"1\" class=\"dataframe\">\n",
       "  <thead>\n",
       "    <tr style=\"text-align: right;\">\n",
       "      <th></th>\n",
       "      <th>Unnamed: 0</th>\n",
       "      <th>Category</th>\n",
       "      <th>Message</th>\n",
       "    </tr>\n",
       "  </thead>\n",
       "  <tbody>\n",
       "    <tr>\n",
       "      <th>0</th>\n",
       "      <td>0</td>\n",
       "      <td>ham</td>\n",
       "      <td>Go until jurong point, crazy.. Available only ...</td>\n",
       "    </tr>\n",
       "    <tr>\n",
       "      <th>1</th>\n",
       "      <td>1</td>\n",
       "      <td>ham</td>\n",
       "      <td>Ok lar... Joking wif u oni...</td>\n",
       "    </tr>\n",
       "    <tr>\n",
       "      <th>2</th>\n",
       "      <td>2</td>\n",
       "      <td>spam</td>\n",
       "      <td>Free entry in 2 a wkly comp to win FA Cup fina...</td>\n",
       "    </tr>\n",
       "    <tr>\n",
       "      <th>3</th>\n",
       "      <td>3</td>\n",
       "      <td>ham</td>\n",
       "      <td>U dun say so early hor... U c already then say...</td>\n",
       "    </tr>\n",
       "    <tr>\n",
       "      <th>4</th>\n",
       "      <td>4</td>\n",
       "      <td>ham</td>\n",
       "      <td>Nah I don't think he goes to usf, he lives aro...</td>\n",
       "    </tr>\n",
       "    <tr>\n",
       "      <th>...</th>\n",
       "      <td>...</td>\n",
       "      <td>...</td>\n",
       "      <td>...</td>\n",
       "    </tr>\n",
       "    <tr>\n",
       "      <th>5344</th>\n",
       "      <td>5344</td>\n",
       "      <td>spam</td>\n",
       "      <td>This is the 2nd time we have tried 2 contact u...</td>\n",
       "    </tr>\n",
       "    <tr>\n",
       "      <th>5345</th>\n",
       "      <td>5345</td>\n",
       "      <td>ham</td>\n",
       "      <td>Will ü b going to esplanade fr home?</td>\n",
       "    </tr>\n",
       "    <tr>\n",
       "      <th>5346</th>\n",
       "      <td>5346</td>\n",
       "      <td>ham</td>\n",
       "      <td>Pity, * was in mood for that. So...any other s...</td>\n",
       "    </tr>\n",
       "    <tr>\n",
       "      <th>5347</th>\n",
       "      <td>5347</td>\n",
       "      <td>ham</td>\n",
       "      <td>The guy did some bitching but I acted like i'd...</td>\n",
       "    </tr>\n",
       "    <tr>\n",
       "      <th>5348</th>\n",
       "      <td>5348</td>\n",
       "      <td>ham</td>\n",
       "      <td>Rofl. Its true to its name</td>\n",
       "    </tr>\n",
       "  </tbody>\n",
       "</table>\n",
       "<p>5349 rows × 3 columns</p>\n",
       "</div>"
      ],
      "text/plain": [
       "      Unnamed: 0 Category                                            Message\n",
       "0              0      ham  Go until jurong point, crazy.. Available only ...\n",
       "1              1      ham                      Ok lar... Joking wif u oni...\n",
       "2              2     spam  Free entry in 2 a wkly comp to win FA Cup fina...\n",
       "3              3      ham  U dun say so early hor... U c already then say...\n",
       "4              4      ham  Nah I don't think he goes to usf, he lives aro...\n",
       "...          ...      ...                                                ...\n",
       "5344        5344     spam  This is the 2nd time we have tried 2 contact u...\n",
       "5345        5345      ham               Will ü b going to esplanade fr home?\n",
       "5346        5346      ham  Pity, * was in mood for that. So...any other s...\n",
       "5347        5347      ham  The guy did some bitching but I acted like i'd...\n",
       "5348        5348      ham                         Rofl. Its true to its name\n",
       "\n",
       "[5349 rows x 3 columns]"
      ]
     },
     "execution_count": 36,
     "metadata": {},
     "output_type": "execute_result"
    }
   ],
   "source": [
    "import pandas as pd\n",
    "df = pd.read_csv('final_spam.csv')\n",
    "df"
   ]
  },
  {
   "cell_type": "code",
   "execution_count": 37,
   "metadata": {},
   "outputs": [
    {
     "name": "stdout",
     "output_type": "stream",
     "text": [
      "<class 'pandas.core.frame.DataFrame'>\n",
      "RangeIndex: 5349 entries, 0 to 5348\n",
      "Data columns (total 3 columns):\n",
      " #   Column      Non-Null Count  Dtype \n",
      "---  ------      --------------  ----- \n",
      " 0   Unnamed: 0  5349 non-null   int64 \n",
      " 1   Category    5349 non-null   object\n",
      " 2   Message     5349 non-null   object\n",
      "dtypes: int64(1), object(2)\n",
      "memory usage: 125.5+ KB\n"
     ]
    }
   ],
   "source": [
    "df.info()"
   ]
  },
  {
   "cell_type": "code",
   "execution_count": 38,
   "metadata": {},
   "outputs": [
    {
     "name": "stdout",
     "output_type": "stream",
     "text": [
      "Unnamed: 0    0\n",
      "Category      0\n",
      "Message       0\n",
      "dtype: int64\n"
     ]
    }
   ],
   "source": [
    "print(df.isnull().sum())"
   ]
  },
  {
   "cell_type": "code",
   "execution_count": 39,
   "metadata": {},
   "outputs": [
    {
     "name": "stdout",
     "output_type": "stream",
     "text": [
      "                                                Message Actual Predicted\n",
      "2526                        S da..al r above  &lt;#&gt;    ham       ham\n",
      "4291                         Much better now thanks lol    ham       ham\n",
      "486            Lolnice. I went from a fish to ..water.?    ham       ham\n",
      "2569  we tried to contact you re your response to ou...   spam      spam\n",
      "2414  U wake up already? Wat u doing? U picking us u...    ham       ham\n",
      "...                                                 ...    ...       ...\n",
      "4002  Mmmmmm ... I love you,so much, Ahmad ... I can...    ham       ham\n",
      "3229                             Sorry, I'll call later    ham       ham\n",
      "1592               Thts wat Wright Brother did to fly..    ham       ham\n",
      "1738         Can i get your opinion on something first?    ham       ham\n",
      "4009                       Ok lor then we go tog lor...    ham       ham\n",
      "\n",
      "[1605 rows x 3 columns]\n",
      "Accuracy: 0.983177570093458\n"
     ]
    }
   ],
   "source": [
    "import pandas as pd\n",
    "from sklearn.feature_extraction.text import TfidfVectorizer\n",
    "from sklearn.model_selection import train_test_split\n",
    "from sklearn.svm import SVC\n",
    "from sklearn.metrics import accuracy_score\n",
    "\n",
    "# Load the dataset\n",
    "df = df\n",
    "\n",
    "# Split the dataset into training and testing sets\n",
    "X = df[\"Message\"]\n",
    "y = df[\"Category\"]\n",
    "X_train, X_test, y_train, y_test = train_test_split(X, y, test_size=0.3, random_state=42)\n",
    "\n",
    "# Create a TF-IDF vectorizer to convert text into numerical features\n",
    "vectorizer = TfidfVectorizer()\n",
    "X_train_vectorized = vectorizer.fit_transform(X_train)\n",
    "\n",
    "# Train the Support Vector Machine classifier\n",
    "classifier = SVC()\n",
    "classifier.fit(X_train_vectorized, y_train)\n",
    "\n",
    "# Vectorize the test set and make predictions\n",
    "X_test_vectorized = vectorizer.transform(X_test)\n",
    "predictions = classifier.predict(X_test_vectorized)\n",
    "\n",
    "# Compare the predicted labels with the actual labels\n",
    "results = pd.DataFrame({\"Message\": X_test, \"Actual\": y_test, \"Predicted\": predictions})\n",
    "print(results)\n",
    "\n",
    "accuracy = accuracy_score(y_test, predictions)\n",
    "print(\"Accuracy:\", accuracy)\n"
   ]
  },
  {
   "cell_type": "code",
   "execution_count": 40,
   "metadata": {},
   "outputs": [
    {
     "name": "stdout",
     "output_type": "stream",
     "text": [
      "Wrongly Predicted Messages:\n",
      "                                                Message Actual Predicted\n",
      "1405  CLAIRE here am havin borin time & am now alone...   spam       ham\n",
      "1094  Dont forget you can place as many FREE Request...   spam       ham\n",
      "3599  Dear Voucher Holder 2 claim your 1st class air...   spam       ham\n",
      "2992  Good Luck! Draw takes place 28th Feb 06. Good ...   spam       ham\n",
      "3830  (Bank of Granite issues Strong-Buy) EXPLOSIVE ...   spam       ham\n",
      "1322  Bears Pic Nick, and Tom, Pete and ... Dick. In...   spam       ham\n",
      "553                              Waiting for your call.    ham      spam\n",
      "705   Email AlertFrom: Jeri StewartSize: 2KBSubject:...   spam       ham\n",
      "1583  0A$NETWORKS allow companies to bill for SMS, s...   spam       ham\n",
      "2181                  88066 FROM 88066 LOST 3POUND HELP   spam       ham\n",
      "586   XCLUSIVE@CLUBSAISAI 2MOROW 28/5 SOIREE SPECIAL...   spam       ham\n",
      "3360  Dorothy@kiefer.com (Bank of Granite issues Str...   spam       ham\n",
      "3820                                 ringtoneking 84484   spam       ham\n",
      "3906  TBS/PERSOLVO. been chasing us since Sept for£3...   spam       ham\n",
      "219   Will u meet ur dream partner soon? Is ur caree...   spam       ham\n",
      "135   You'll not rcv any more msgs from the chat svc...   spam       ham\n",
      "2805  Sorry! U can not unsubscribe yet. THE MOB offe...   spam       ham\n",
      "833   Hello. We need some posh birds and chaps to us...   spam       ham\n",
      "17    England v Macedonia - dont miss the goals/team...   spam       ham\n",
      "3910  Loans for any purpose even if you have Bad Cre...   spam       ham\n",
      "511   You will recieve your tone within the next 24h...   spam       ham\n",
      "4083  Block Breaker now comes in deluxe format with ...   spam       ham\n",
      "4333  Money i have won wining number 946 wot do i do...   spam       ham\n",
      "1221  Can U get 2 phone NOW? I wanna chat 2 set up m...   spam       ham\n",
      "3321  Not heard from U4 a while. Call me now am here...   spam       ham\n",
      "5162  The current leading bid is 151. To pause this ...   spam       ham\n",
      "3012  LookAtMe!: Thanks for your purchase of a video...   spam       ham\n"
     ]
    }
   ],
   "source": [
    "wrong_predictions = results[results[\"Actual\"] != results[\"Predicted\"]]\n",
    "print(\"Wrongly Predicted Messages:\")\n",
    "print(wrong_predictions)"
   ]
  },
  {
   "cell_type": "code",
   "execution_count": 41,
   "metadata": {},
   "outputs": [
    {
     "name": "stdout",
     "output_type": "stream",
     "text": [
      "Cross-Validation Accuracy: 0.9762281973112099\n"
     ]
    }
   ],
   "source": [
    "from sklearn.model_selection import cross_val_score\n",
    "cv_accuracy = cross_val_score(classifier, X_train_vectorized, y_train, cv=5)\n",
    "print(\"Cross-Validation Accuracy:\", cv_accuracy.mean())"
   ]
  },
  {
   "cell_type": "code",
   "execution_count": 42,
   "metadata": {},
   "outputs": [
    {
     "name": "stdout",
     "output_type": "stream",
     "text": [
      "Confusion Matrix:\n",
      "[[1399    1]\n",
      " [  26  179]]\n"
     ]
    }
   ],
   "source": [
    "from sklearn.metrics import confusion_matrix\n",
    "confusion_mat = confusion_matrix(y_test, predictions)\n",
    "print(\"Confusion Matrix:\")\n",
    "print(confusion_mat)"
   ]
  },
  {
   "cell_type": "code",
   "execution_count": null,
   "metadata": {},
   "outputs": [],
   "source": []
  }
 ],
 "metadata": {
  "kernelspec": {
   "display_name": "Python 3",
   "language": "python",
   "name": "python3"
  },
  "language_info": {
   "codemirror_mode": {
    "name": "ipython",
    "version": 3
   },
   "file_extension": ".py",
   "mimetype": "text/x-python",
   "name": "python",
   "nbconvert_exporter": "python",
   "pygments_lexer": "ipython3",
   "version": "3.11.2"
  },
  "orig_nbformat": 4
 },
 "nbformat": 4,
 "nbformat_minor": 2
}
